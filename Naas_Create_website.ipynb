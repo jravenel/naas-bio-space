{
 "cells": [
  {
   "cell_type": "markdown",
   "id": "immune-amplifier",
   "metadata": {},
   "source": [
    "# Create a simple website with Naas"
   ]
  },
  {
   "cell_type": "markdown",
   "id": "japanese-sending",
   "metadata": {},
   "source": [
    "- Use example.com to get the Html template \n",
    "- Modify the html template \n",
    "- Publish it as an asset for development \n",
    "- Deploy it as a naas space for production "
   ]
  },
  {
   "cell_type": "code",
   "execution_count": 1,
   "id": "located-dutch",
   "metadata": {
    "execution": {
     "iopub.execute_input": "2022-11-29T23:53:10.933391Z",
     "iopub.status.busy": "2022-11-29T23:53:10.932969Z",
     "iopub.status.idle": "2022-11-29T23:53:13.123973Z",
     "shell.execute_reply": "2022-11-29T23:53:13.123395Z",
     "shell.execute_reply.started": "2022-11-29T23:53:10.933313Z"
    },
    "tags": []
   },
   "outputs": [
    {
     "name": "stdout",
     "output_type": "stream",
     "text": [
      "👌 Well done! Your Assets has been sent to production.\n",
      "\n"
     ]
    },
    {
     "data": {
      "application/javascript": [
       "\n",
       "    if (!window.copyToClipboard) {\n",
       "        window.copyToClipboard = (text) => {\n",
       "            const dummy = document.createElement(\"textarea\");\n",
       "            document.body.appendChild(dummy);\n",
       "            dummy.value = text;\n",
       "            dummy.select();\n",
       "            document.execCommand(\"copy\");\n",
       "            document.body.removeChild(dummy);\n",
       "        }\n",
       "    }\n",
       "    "
      ],
      "text/plain": [
       "<IPython.core.display.Javascript object>"
      ]
     },
     "metadata": {},
     "output_type": "display_data"
    },
    {
     "data": {
      "application/vnd.jupyter.widget-view+json": {
       "model_id": "edc3d5319da544f4b70ed21e7792c45c",
       "version_major": 2,
       "version_minor": 0
      },
      "text/plain": [
       "Button(button_style='primary', description='Copy URL', style=ButtonStyle())"
      ]
     },
     "metadata": {},
     "output_type": "display_data"
    },
    {
     "data": {
      "application/vnd.jupyter.widget-view+json": {
       "model_id": "d1ccff4569e14b5f9a72482b9d58424c",
       "version_major": 2,
       "version_minor": 0
      },
      "text/plain": [
       "Output()"
      ]
     },
     "metadata": {},
     "output_type": "display_data"
    },
    {
     "name": "stdout",
     "output_type": "stream",
     "text": [
      "PS: to remove the \"Assets\" feature, just replace .add by .delete\n"
     ]
    },
    {
     "data": {
      "text/plain": [
       "'https://public.naas.ai/cmF2ZW5lbC0yRWplcmVteS00MGdtYWlsLTJFY29t/asset/38a7f2d6d6453e5f4b7b0c8c3c8654704945e236762e467ff18227dd45dd'"
      ]
     },
     "execution_count": 1,
     "metadata": {},
     "output_type": "execute_result"
    }
   ],
   "source": [
    "import naas\n",
    "naas.asset.add(\"my-website.html\",{\"inline\": True})"
   ]
  },
  {
   "cell_type": "code",
   "execution_count": null,
   "id": "7cd4c2d7-88ca-4795-92df-38c3f6f1f740",
   "metadata": {},
   "outputs": [],
   "source": []
  },
  {
   "cell_type": "code",
   "execution_count": null,
   "id": "566c715a-03f9-4f3f-b3cc-dc1df4e50fc1",
   "metadata": {},
   "outputs": [],
   "source": []
  },
  {
   "cell_type": "code",
   "execution_count": null,
   "id": "6cf09d3a-a469-4022-a8c7-6d937fc7e78f",
   "metadata": {},
   "outputs": [],
   "source": []
  }
 ],
 "metadata": {
  "kernelspec": {
   "display_name": "Python 3",
   "language": "python",
   "name": "python3"
  },
  "language_info": {
   "codemirror_mode": {
    "name": "ipython",
    "version": 3
   },
   "file_extension": ".py",
   "mimetype": "text/x-python",
   "name": "python",
   "nbconvert_exporter": "python",
   "pygments_lexer": "ipython3",
   "version": "3.9.6"
  },
  "widgets": {
   "application/vnd.jupyter.widget-state+json": {
    "state": {
     "1a5ec3ab54a14383aecdd7e5c04b7978": {
      "model_module": "@jupyter-widgets/output",
      "model_module_version": "1.0.0",
      "model_name": "OutputModel",
      "state": {
       "layout": "IPY_MODEL_1f6f2b4c022946d58049a5636770bb7a"
      }
     },
     "1bcb77851ba84780a71bf455823a2d1f": {
      "model_module": "@jupyter-widgets/controls",
      "model_module_version": "1.5.0",
      "model_name": "ButtonStyleModel",
      "state": {}
     },
     "1f6f2b4c022946d58049a5636770bb7a": {
      "model_module": "@jupyter-widgets/base",
      "model_module_version": "1.2.0",
      "model_name": "LayoutModel",
      "state": {}
     },
     "2f8e808523b1442784e4808d8676bcb4": {
      "model_module": "@jupyter-widgets/controls",
      "model_module_version": "1.5.0",
      "model_name": "ButtonModel",
      "state": {
       "button_style": "primary",
       "description": "Copy URL",
       "layout": "IPY_MODEL_ecb68fd951544a27a6f9c1fd77a4b830",
       "style": "IPY_MODEL_f07750446ed64bac9be9d1f64c1908fa"
      }
     },
     "42364be76efb4aca8a1244a688485d2b": {
      "model_module": "@jupyter-widgets/base",
      "model_module_version": "1.2.0",
      "model_name": "LayoutModel",
      "state": {}
     },
     "47e43af83fa8473583c43fb7a73f05f0": {
      "model_module": "@jupyter-widgets/output",
      "model_module_version": "1.0.0",
      "model_name": "OutputModel",
      "state": {
       "layout": "IPY_MODEL_e40f3a4fbf414c9bae1a9e1ae1d6c03d"
      }
     },
     "52a707b8ed294ab4a5be932726759bda": {
      "model_module": "@jupyter-widgets/controls",
      "model_module_version": "1.5.0",
      "model_name": "ButtonModel",
      "state": {
       "button_style": "primary",
       "description": "Copy URL",
       "layout": "IPY_MODEL_5350004656db4df19f9e285375877f3a",
       "style": "IPY_MODEL_574ca37757984c81a21369e963fedde0"
      }
     },
     "5350004656db4df19f9e285375877f3a": {
      "model_module": "@jupyter-widgets/base",
      "model_module_version": "1.2.0",
      "model_name": "LayoutModel",
      "state": {}
     },
     "574ca37757984c81a21369e963fedde0": {
      "model_module": "@jupyter-widgets/controls",
      "model_module_version": "1.5.0",
      "model_name": "ButtonStyleModel",
      "state": {}
     },
     "6b72f4f959ca43e09f94a2b12f1f2c8b": {
      "model_module": "@jupyter-widgets/base",
      "model_module_version": "1.2.0",
      "model_name": "LayoutModel",
      "state": {}
     },
     "d1ccff4569e14b5f9a72482b9d58424c": {
      "model_module": "@jupyter-widgets/output",
      "model_module_version": "1.0.0",
      "model_name": "OutputModel",
      "state": {
       "layout": "IPY_MODEL_42364be76efb4aca8a1244a688485d2b"
      }
     },
     "e40f3a4fbf414c9bae1a9e1ae1d6c03d": {
      "model_module": "@jupyter-widgets/base",
      "model_module_version": "1.2.0",
      "model_name": "LayoutModel",
      "state": {}
     },
     "ecb68fd951544a27a6f9c1fd77a4b830": {
      "model_module": "@jupyter-widgets/base",
      "model_module_version": "1.2.0",
      "model_name": "LayoutModel",
      "state": {}
     },
     "edc3d5319da544f4b70ed21e7792c45c": {
      "model_module": "@jupyter-widgets/controls",
      "model_module_version": "1.5.0",
      "model_name": "ButtonModel",
      "state": {
       "button_style": "primary",
       "description": "Copy URL",
       "layout": "IPY_MODEL_6b72f4f959ca43e09f94a2b12f1f2c8b",
       "style": "IPY_MODEL_1bcb77851ba84780a71bf455823a2d1f"
      }
     },
     "f07750446ed64bac9be9d1f64c1908fa": {
      "model_module": "@jupyter-widgets/controls",
      "model_module_version": "1.5.0",
      "model_name": "ButtonStyleModel",
      "state": {}
     }
    },
    "version_major": 2,
    "version_minor": 0
   }
  }
 },
 "nbformat": 4,
 "nbformat_minor": 5
}
