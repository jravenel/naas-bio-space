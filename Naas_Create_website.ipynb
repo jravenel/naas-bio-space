{
 "cells": [
  {
   "cell_type": "markdown",
   "id": "immune-amplifier",
   "metadata": {},
   "source": [
    "# Create a simple website with Naas"
   ]
  },
  {
   "cell_type": "markdown",
   "id": "japanese-sending",
   "metadata": {},
   "source": [
    "- Use example.com to get the Html template \n",
    "- Modify the html template \n",
    "- Publish it as an asset for development \n",
    "- Deploy it as a naas space for production "
   ]
  },
  {
   "cell_type": "code",
   "execution_count": 1,
   "id": "located-dutch",
   "metadata": {
    "execution": {
     "iopub.execute_input": "2022-11-30T08:33:27.400792Z",
     "iopub.status.busy": "2022-11-30T08:33:27.400501Z",
     "iopub.status.idle": "2022-11-30T08:33:29.568261Z",
     "shell.execute_reply": "2022-11-30T08:33:29.567511Z",
     "shell.execute_reply.started": "2022-11-30T08:33:27.400724Z"
    },
    "tags": []
   },
   "outputs": [
    {
     "name": "stdout",
     "output_type": "stream",
     "text": [
      "👌 Well done! Your Assets has been sent to production.\n",
      "\n"
     ]
    },
    {
     "data": {
      "application/javascript": [
       "\n",
       "    if (!window.copyToClipboard) {\n",
       "        window.copyToClipboard = (text) => {\n",
       "            const dummy = document.createElement(\"textarea\");\n",
       "            document.body.appendChild(dummy);\n",
       "            dummy.value = text;\n",
       "            dummy.select();\n",
       "            document.execCommand(\"copy\");\n",
       "            document.body.removeChild(dummy);\n",
       "        }\n",
       "    }\n",
       "    "
      ],
      "text/plain": [
       "<IPython.core.display.Javascript object>"
      ]
     },
     "metadata": {},
     "output_type": "display_data"
    },
    {
     "data": {
      "application/vnd.jupyter.widget-view+json": {
       "model_id": "959da355a9124f2982db83e895666f8b",
       "version_major": 2,
       "version_minor": 0
      },
      "text/plain": [
       "Button(button_style='primary', description='Copy URL', style=ButtonStyle())"
      ]
     },
     "metadata": {},
     "output_type": "display_data"
    },
    {
     "data": {
      "application/vnd.jupyter.widget-view+json": {
       "model_id": "31d935f3abd2437cb7bc1d436a56e7b0",
       "version_major": 2,
       "version_minor": 0
      },
      "text/plain": [
       "Output()"
      ]
     },
     "metadata": {},
     "output_type": "display_data"
    },
    {
     "name": "stdout",
     "output_type": "stream",
     "text": [
      "PS: to remove the \"Assets\" feature, just replace .add by .delete\n"
     ]
    },
    {
     "data": {
      "text/plain": [
       "'https://public.naas.ai/amVyZW15LTQwbmFhcy0yRWFp/asset/2eedd5443fc7a7fbb9f1492317736fe0d6db922126a6862420989bfdd6b7'"
      ]
     },
     "execution_count": 1,
     "metadata": {},
     "output_type": "execute_result"
    }
   ],
   "source": [
    "import naas\n",
    "naas.asset.add(\"index.html\",{\"inline\": True})"
   ]
  },
  {
   "cell_type": "code",
   "execution_count": null,
   "id": "7cd4c2d7-88ca-4795-92df-38c3f6f1f740",
   "metadata": {},
   "outputs": [],
   "source": [
    "#naas.space.site.add(path=\"index.html\",dependencies=[\"style.css\",\"script.js\"], name=\"jeremy\")"
   ]
  }
 ],
 "metadata": {
  "kernelspec": {
   "display_name": "Python 3",
   "language": "python",
   "name": "python3"
  },
  "language_info": {
   "codemirror_mode": {
    "name": "ipython",
    "version": 3
   },
   "file_extension": ".py",
   "mimetype": "text/x-python",
   "name": "python",
   "nbconvert_exporter": "python",
   "pygments_lexer": "ipython3",
   "version": "3.9.6"
  },
  "widgets": {
   "application/vnd.jupyter.widget-state+json": {
    "state": {
     "31d935f3abd2437cb7bc1d436a56e7b0": {
      "model_module": "@jupyter-widgets/output",
      "model_module_version": "1.0.0",
      "model_name": "OutputModel",
      "state": {
       "layout": "IPY_MODEL_b81275ad622c46eca900da06c4601978"
      }
     },
     "58279ac035164e9d8886d1089b774751": {
      "model_module": "@jupyter-widgets/controls",
      "model_module_version": "1.5.0",
      "model_name": "ButtonStyleModel",
      "state": {}
     },
     "959da355a9124f2982db83e895666f8b": {
      "model_module": "@jupyter-widgets/controls",
      "model_module_version": "1.5.0",
      "model_name": "ButtonModel",
      "state": {
       "button_style": "primary",
       "description": "Copy URL",
       "layout": "IPY_MODEL_a6d6c88d70c944cebc13b8d5e1fdf8d9",
       "style": "IPY_MODEL_58279ac035164e9d8886d1089b774751"
      }
     },
     "a6d6c88d70c944cebc13b8d5e1fdf8d9": {
      "model_module": "@jupyter-widgets/base",
      "model_module_version": "1.2.0",
      "model_name": "LayoutModel",
      "state": {}
     },
     "b81275ad622c46eca900da06c4601978": {
      "model_module": "@jupyter-widgets/base",
      "model_module_version": "1.2.0",
      "model_name": "LayoutModel",
      "state": {}
     }
    },
    "version_major": 2,
    "version_minor": 0
   }
  }
 },
 "nbformat": 4,
 "nbformat_minor": 5
}
